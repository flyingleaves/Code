{
 "cells": [
  {
   "cell_type": "markdown",
   "metadata": {},
   "source": [
    "已知：某台锅炉燃烧烟煤，煤的元素分析成分为：Car=55.43%、Har=3.09%、Oar=4.13%、Nar=1.34%、Sar=0.34%、Aar=27.74%、Mar=7.93%，\n",
    "求：\n",
    "1、理论空气量\n",
    "2、三原子气体容积\n",
    "3、理论水蒸汽容积\n",
    "4、理论氮气容积\n",
    "5、理论烟气容积\n"
   ]
  },
  {
   "cell_type": "code",
   "execution_count": 39,
   "metadata": {
    "collapsed": false
   },
   "outputs": [
    {
     "name": "stdout",
     "output_type": "stream",
     "text": [
      "理论空气量: 5.617 m3/kg\n",
      "RO2气体量 1.037 m3/kg\n",
      "理论水蒸气量 0.531 m3/kg\n",
      "理论氮气量 4.448 m3/kg\n",
      "理论烟气量 6.016 m3/kg\n",
      "+--------------+-------+-------+\n",
      "|     参数     |   值  |  单位 |\n",
      "+--------------+-------+-------+\n",
      "| 理论空气量:  | 5.617 | m3/kg |\n",
      "|  RO2气体量   | 1.037 | m3/kg |\n",
      "| 理论水蒸气量 | 0.531 | m3/kg |\n",
      "|  理论氮气量  | 4.448 | m3/kg |\n",
      "|  理论烟气量  | 6.016 | m3/kg |\n",
      "+--------------+-------+-------+\n"
     ]
    }
   ],
   "source": [
    "# -*- coding: utf-8 -*-\n",
    "from prettytable import PrettyTable\n",
    "import math\n",
    "\n",
    "\n",
    "def guolu(Car,Har,Oar,Nar,Sar,Aar,Mar):\n",
    "    lilunair=(1.866*Car+5.56*Har+0.7*Sar-0.7*Oar)/0.21   #理论空气量\n",
    "    RO2=(1.866*Car+0.7*Sar)   #RO2气体量\n",
    "\n",
    "    lilunwater=(11.1*Har+1.24*Mar+0.016*lilunair)   #理论水蒸气量\n",
    "  \n",
    "    lilunN2=(0.79*lilunair+0.8*Nar)     #理论氮气量\n",
    "    lilunyanqi=(RO2+lilunwater+lilunN2)  #理论烟气量\n",
    "    print('理论空气量:', \"%.3f\" % lilunair,'m3/kg')   #用\"%.3f\" %保留小数点后三位\n",
    "    print('RO2气体量',\"%.3f\" % RO2,'m3/kg')\n",
    "    print('理论水蒸气量',\"%.3f\" % lilunwater,'m3/kg')\n",
    "    print('理论氮气量',\"%.3f\" % lilunN2,'m3/kg')\n",
    "    print('理论烟气量',\"%.3f\" % lilunyanqi,'m3/kg')\n",
    "    \n",
    "    table=PrettyTable(['参数','值','单位'])   #用表格输出\n",
    "    table.align= \"c\" #居中\n",
    "    table.padding_width = 1\n",
    "    \n",
    "    for i in range(0,1):\n",
    "        table.add_row(['理论空气量:', \"%.3f\" % lilunair,'m3/kg'])\n",
    "        table.add_row(['RO2气体量',\"%.3f\" % RO2,'m3/kg'])\n",
    "        table.add_row(['理论水蒸气量',\"%.3f\" % lilunwater,'m3/kg'])\n",
    "        table.add_row(['理论氮气量',\"%.3f\" % lilunN2,'m3/kg'])\n",
    "        table.add_row(['理论烟气量',\"%.3f\" % lilunyanqi,'m3/kg'])\n",
    "        \n",
    "        print(table)\n",
    "\n",
    "guolu(0.5543,0.0309,0.0413,0.0134,0.0034,0.2774,0.0793)\n",
    "\n",
    "\n",
    "    \n",
    "\n",
    "\n",
    "    \n"
   ]
  },
  {
   "cell_type": "code",
   "execution_count": null,
   "metadata": {
    "collapsed": true
   },
   "outputs": [],
   "source": []
  },
  {
   "cell_type": "code",
   "execution_count": null,
   "metadata": {
    "collapsed": true
   },
   "outputs": [],
   "source": []
  }
 ],
 "metadata": {
  "kernelspec": {
   "display_name": "Python 3",
   "language": "python",
   "name": "python3"
  },
  "language_info": {
   "codemirror_mode": {
    "name": "ipython",
    "version": 3
   },
   "file_extension": ".py",
   "mimetype": "text/x-python",
   "name": "python",
   "nbconvert_exporter": "python",
   "pygments_lexer": "ipython3",
   "version": "3.5.1"
  }
 },
 "nbformat": 4,
 "nbformat_minor": 0
}
